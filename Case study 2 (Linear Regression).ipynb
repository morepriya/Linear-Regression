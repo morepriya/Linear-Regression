{
 "cells": [
  {
   "cell_type": "code",
   "execution_count": 1,
   "metadata": {},
   "outputs": [],
   "source": [
    "import pandas as pd\n",
    "import numpy as np\n",
    "import matplotlib.pyplot as plt\n",
    "import seaborn as sns"
   ]
  },
  {
   "cell_type": "raw",
   "metadata": {},
   "source": [
    "\n",
    "# Gross national product (GNP) is a broad measure of a nation's total economic activity. GNP is the value of all finished goods and services produced in a country in one year by its nationals."
   ]
  },
  {
   "cell_type": "code",
   "execution_count": 2,
   "metadata": {},
   "outputs": [
    {
     "data": {
      "text/html": [
       "<div>\n",
       "<style scoped>\n",
       "    .dataframe tbody tr th:only-of-type {\n",
       "        vertical-align: middle;\n",
       "    }\n",
       "\n",
       "    .dataframe tbody tr th {\n",
       "        vertical-align: top;\n",
       "    }\n",
       "\n",
       "    .dataframe thead th {\n",
       "        text-align: right;\n",
       "    }\n",
       "</style>\n",
       "<table border=\"1\" class=\"dataframe\">\n",
       "  <thead>\n",
       "    <tr style=\"text-align: right;\">\n",
       "      <th></th>\n",
       "      <th>GNP.deflator</th>\n",
       "      <th>GNP</th>\n",
       "      <th>Unemployed</th>\n",
       "      <th>Armed.Forces</th>\n",
       "      <th>Population</th>\n",
       "      <th>Employed</th>\n",
       "    </tr>\n",
       "  </thead>\n",
       "  <tbody>\n",
       "    <tr>\n",
       "      <td>0</td>\n",
       "      <td>83.0</td>\n",
       "      <td>234.289</td>\n",
       "      <td>235.6</td>\n",
       "      <td>159.0</td>\n",
       "      <td>107.608</td>\n",
       "      <td>60.323</td>\n",
       "    </tr>\n",
       "    <tr>\n",
       "      <td>1</td>\n",
       "      <td>88.5</td>\n",
       "      <td>259.426</td>\n",
       "      <td>232.5</td>\n",
       "      <td>145.6</td>\n",
       "      <td>108.632</td>\n",
       "      <td>61.122</td>\n",
       "    </tr>\n",
       "    <tr>\n",
       "      <td>2</td>\n",
       "      <td>88.2</td>\n",
       "      <td>258.054</td>\n",
       "      <td>368.2</td>\n",
       "      <td>161.6</td>\n",
       "      <td>109.773</td>\n",
       "      <td>60.171</td>\n",
       "    </tr>\n",
       "    <tr>\n",
       "      <td>3</td>\n",
       "      <td>89.5</td>\n",
       "      <td>284.599</td>\n",
       "      <td>335.1</td>\n",
       "      <td>165.0</td>\n",
       "      <td>110.929</td>\n",
       "      <td>61.187</td>\n",
       "    </tr>\n",
       "    <tr>\n",
       "      <td>4</td>\n",
       "      <td>96.2</td>\n",
       "      <td>328.975</td>\n",
       "      <td>209.9</td>\n",
       "      <td>309.9</td>\n",
       "      <td>112.075</td>\n",
       "      <td>63.221</td>\n",
       "    </tr>\n",
       "  </tbody>\n",
       "</table>\n",
       "</div>"
      ],
      "text/plain": [
       "   GNP.deflator      GNP  Unemployed  Armed.Forces  Population  Employed\n",
       "0          83.0  234.289       235.6         159.0     107.608    60.323\n",
       "1          88.5  259.426       232.5         145.6     108.632    61.122\n",
       "2          88.2  258.054       368.2         161.6     109.773    60.171\n",
       "3          89.5  284.599       335.1         165.0     110.929    61.187\n",
       "4          96.2  328.975       209.9         309.9     112.075    63.221"
      ]
     },
     "execution_count": 2,
     "metadata": {},
     "output_type": "execute_result"
    }
   ],
   "source": [
    "data=pd.read_csv('LR Practice data.csv')\n",
    "data.head()"
   ]
  },
  {
   "cell_type": "code",
   "execution_count": 3,
   "metadata": {},
   "outputs": [
    {
     "data": {
      "text/html": [
       "<div>\n",
       "<style scoped>\n",
       "    .dataframe tbody tr th:only-of-type {\n",
       "        vertical-align: middle;\n",
       "    }\n",
       "\n",
       "    .dataframe tbody tr th {\n",
       "        vertical-align: top;\n",
       "    }\n",
       "\n",
       "    .dataframe thead th {\n",
       "        text-align: right;\n",
       "    }\n",
       "</style>\n",
       "<table border=\"1\" class=\"dataframe\">\n",
       "  <thead>\n",
       "    <tr style=\"text-align: right;\">\n",
       "      <th></th>\n",
       "      <th>GNP.deflator</th>\n",
       "      <th>GNP</th>\n",
       "      <th>Unemployed</th>\n",
       "      <th>Armed.Forces</th>\n",
       "      <th>Population</th>\n",
       "      <th>Employed</th>\n",
       "    </tr>\n",
       "  </thead>\n",
       "  <tbody>\n",
       "    <tr>\n",
       "      <td>count</td>\n",
       "      <td>2938.000000</td>\n",
       "      <td>2938.000000</td>\n",
       "      <td>2938.000000</td>\n",
       "      <td>2938.000000</td>\n",
       "      <td>2938.000000</td>\n",
       "      <td>2938.000000</td>\n",
       "    </tr>\n",
       "    <tr>\n",
       "      <td>mean</td>\n",
       "      <td>3383.989632</td>\n",
       "      <td>30744.994551</td>\n",
       "      <td>19482.279926</td>\n",
       "      <td>9171.264779</td>\n",
       "      <td>2239.144062</td>\n",
       "      <td>1112.140688</td>\n",
       "    </tr>\n",
       "    <tr>\n",
       "      <td>std</td>\n",
       "      <td>1905.742557</td>\n",
       "      <td>17625.763439</td>\n",
       "      <td>11126.209407</td>\n",
       "      <td>5173.587165</td>\n",
       "      <td>1231.892846</td>\n",
       "      <td>607.796778</td>\n",
       "    </tr>\n",
       "    <tr>\n",
       "      <td>min</td>\n",
       "      <td>83.000000</td>\n",
       "      <td>234.289000</td>\n",
       "      <td>187.000000</td>\n",
       "      <td>145.600000</td>\n",
       "      <td>107.608000</td>\n",
       "      <td>60.171000</td>\n",
       "    </tr>\n",
       "    <tr>\n",
       "      <td>25%</td>\n",
       "      <td>1734.410625</td>\n",
       "      <td>15488.427358</td>\n",
       "      <td>9851.619375</td>\n",
       "      <td>4693.095625</td>\n",
       "      <td>1172.838137</td>\n",
       "      <td>586.041925</td>\n",
       "    </tr>\n",
       "    <tr>\n",
       "      <td>50%</td>\n",
       "      <td>3383.989632</td>\n",
       "      <td>30744.994550</td>\n",
       "      <td>19482.279925</td>\n",
       "      <td>9171.264780</td>\n",
       "      <td>2239.144062</td>\n",
       "      <td>1112.140688</td>\n",
       "    </tr>\n",
       "    <tr>\n",
       "      <td>75%</td>\n",
       "      <td>5033.568639</td>\n",
       "      <td>46001.561743</td>\n",
       "      <td>29112.940480</td>\n",
       "      <td>13649.433937</td>\n",
       "      <td>3305.449986</td>\n",
       "      <td>1638.239451</td>\n",
       "    </tr>\n",
       "    <tr>\n",
       "      <td>max</td>\n",
       "      <td>6683.147647</td>\n",
       "      <td>61258.128940</td>\n",
       "      <td>38743.601030</td>\n",
       "      <td>18127.603090</td>\n",
       "      <td>4371.755910</td>\n",
       "      <td>2164.338215</td>\n",
       "    </tr>\n",
       "  </tbody>\n",
       "</table>\n",
       "</div>"
      ],
      "text/plain": [
       "       GNP.deflator           GNP    Unemployed  Armed.Forces   Population  \\\n",
       "count   2938.000000   2938.000000   2938.000000   2938.000000  2938.000000   \n",
       "mean    3383.989632  30744.994551  19482.279926   9171.264779  2239.144062   \n",
       "std     1905.742557  17625.763439  11126.209407   5173.587165  1231.892846   \n",
       "min       83.000000    234.289000    187.000000    145.600000   107.608000   \n",
       "25%     1734.410625  15488.427358   9851.619375   4693.095625  1172.838137   \n",
       "50%     3383.989632  30744.994550  19482.279925   9171.264780  2239.144062   \n",
       "75%     5033.568639  46001.561743  29112.940480  13649.433937  3305.449986   \n",
       "max     6683.147647  61258.128940  38743.601030  18127.603090  4371.755910   \n",
       "\n",
       "          Employed  \n",
       "count  2938.000000  \n",
       "mean   1112.140688  \n",
       "std     607.796778  \n",
       "min      60.171000  \n",
       "25%     586.041925  \n",
       "50%    1112.140688  \n",
       "75%    1638.239451  \n",
       "max    2164.338215  "
      ]
     },
     "execution_count": 3,
     "metadata": {},
     "output_type": "execute_result"
    }
   ],
   "source": [
    "data.describe()"
   ]
  },
  {
   "cell_type": "code",
   "execution_count": 4,
   "metadata": {},
   "outputs": [
    {
     "data": {
      "text/plain": [
       "GNP.deflator    float64\n",
       "GNP             float64\n",
       "Unemployed      float64\n",
       "Armed.Forces    float64\n",
       "Population      float64\n",
       "Employed        float64\n",
       "dtype: object"
      ]
     },
     "execution_count": 4,
     "metadata": {},
     "output_type": "execute_result"
    }
   ],
   "source": [
    "data.dtypes"
   ]
  },
  {
   "cell_type": "code",
   "execution_count": 5,
   "metadata": {},
   "outputs": [
    {
     "name": "stdout",
     "output_type": "stream",
     "text": [
      "<class 'pandas.core.frame.DataFrame'>\n",
      "RangeIndex: 2938 entries, 0 to 2937\n",
      "Data columns (total 6 columns):\n",
      "GNP.deflator    2938 non-null float64\n",
      "GNP             2938 non-null float64\n",
      "Unemployed      2938 non-null float64\n",
      "Armed.Forces    2938 non-null float64\n",
      "Population      2938 non-null float64\n",
      "Employed        2938 non-null float64\n",
      "dtypes: float64(6)\n",
      "memory usage: 137.8 KB\n"
     ]
    }
   ],
   "source": [
    "data.info()"
   ]
  },
  {
   "cell_type": "code",
   "execution_count": 6,
   "metadata": {},
   "outputs": [
    {
     "data": {
      "text/plain": [
       "(2938, 6)"
      ]
     },
     "execution_count": 6,
     "metadata": {},
     "output_type": "execute_result"
    }
   ],
   "source": [
    "data.shape"
   ]
  },
  {
   "cell_type": "code",
   "execution_count": 7,
   "metadata": {},
   "outputs": [
    {
     "data": {
      "text/plain": [
       "<seaborn.axisgrid.PairGrid at 0x505f359c08>"
      ]
     },
     "execution_count": 7,
     "metadata": {},
     "output_type": "execute_result"
    },
    {
     "data": {
      "image/png": "[encoded data removed]",
      "text/plain": [
       "<Figure size 1080x1080 with 42 Axes>"
      ]
     },
     "metadata": {
      "needs_background": "light"
     },
     "output_type": "display_data"
    }
   ],
   "source": [
    "sns.pairplot(data)"
   ]
  },
  {
   "cell_type": "code",
   "execution_count": 8,
   "metadata": {},
   "outputs": [],
   "source": [
    "# data.drop([\"GNP.deflator\"])"
   ]
  },
  {
   "cell_type": "code",
   "execution_count": 9,
   "metadata": {},
   "outputs": [],
   "source": [
    "x=data[['GNP','Unemployed','Armed.Forces','Population']]"
   ]
  },
  {
   "cell_type": "code",
   "execution_count": 10,
   "metadata": {},
   "outputs": [
    {
     "data": {
      "text/html": [
       "<div>\n",
       "<style scoped>\n",
       "    .dataframe tbody tr th:only-of-type {\n",
       "        vertical-align: middle;\n",
       "    }\n",
       "\n",
       "    .dataframe tbody tr th {\n",
       "        vertical-align: top;\n",
       "    }\n",
       "\n",
       "    .dataframe thead th {\n",
       "        text-align: right;\n",
       "    }\n",
       "</style>\n",
       "<table border=\"1\" class=\"dataframe\">\n",
       "  <thead>\n",
       "    <tr style=\"text-align: right;\">\n",
       "      <th></th>\n",
       "      <th>GNP</th>\n",
       "      <th>Unemployed</th>\n",
       "      <th>Armed.Forces</th>\n",
       "      <th>Population</th>\n",
       "    </tr>\n",
       "  </thead>\n",
       "  <tbody>\n",
       "    <tr>\n",
       "      <td>0</td>\n",
       "      <td>234.28900</td>\n",
       "      <td>235.60000</td>\n",
       "      <td>159.00000</td>\n",
       "      <td>107.608000</td>\n",
       "    </tr>\n",
       "    <tr>\n",
       "      <td>1</td>\n",
       "      <td>259.42600</td>\n",
       "      <td>232.50000</td>\n",
       "      <td>145.60000</td>\n",
       "      <td>108.632000</td>\n",
       "    </tr>\n",
       "    <tr>\n",
       "      <td>2</td>\n",
       "      <td>258.05400</td>\n",
       "      <td>368.20000</td>\n",
       "      <td>161.60000</td>\n",
       "      <td>109.773000</td>\n",
       "    </tr>\n",
       "    <tr>\n",
       "      <td>3</td>\n",
       "      <td>284.59900</td>\n",
       "      <td>335.10000</td>\n",
       "      <td>165.00000</td>\n",
       "      <td>110.929000</td>\n",
       "    </tr>\n",
       "    <tr>\n",
       "      <td>4</td>\n",
       "      <td>328.97500</td>\n",
       "      <td>209.90000</td>\n",
       "      <td>309.90000</td>\n",
       "      <td>112.075000</td>\n",
       "    </tr>\n",
       "    <tr>\n",
       "      <td>...</td>\n",
       "      <td>...</td>\n",
       "      <td>...</td>\n",
       "      <td>...</td>\n",
       "      <td>...</td>\n",
       "    </tr>\n",
       "    <tr>\n",
       "      <td>2933</td>\n",
       "      <td>61175.01519</td>\n",
       "      <td>38691.13574</td>\n",
       "      <td>18103.20721</td>\n",
       "      <td>4365.946957</td>\n",
       "    </tr>\n",
       "    <tr>\n",
       "      <td>2934</td>\n",
       "      <td>61195.79363</td>\n",
       "      <td>38704.25206</td>\n",
       "      <td>18109.30618</td>\n",
       "      <td>4367.399196</td>\n",
       "    </tr>\n",
       "    <tr>\n",
       "      <td>2935</td>\n",
       "      <td>61216.57207</td>\n",
       "      <td>38717.36838</td>\n",
       "      <td>18115.40515</td>\n",
       "      <td>4368.851434</td>\n",
       "    </tr>\n",
       "    <tr>\n",
       "      <td>2936</td>\n",
       "      <td>61237.35050</td>\n",
       "      <td>38730.48471</td>\n",
       "      <td>18121.50412</td>\n",
       "      <td>4370.303672</td>\n",
       "    </tr>\n",
       "    <tr>\n",
       "      <td>2937</td>\n",
       "      <td>61258.12894</td>\n",
       "      <td>38743.60103</td>\n",
       "      <td>18127.60309</td>\n",
       "      <td>4371.755910</td>\n",
       "    </tr>\n",
       "  </tbody>\n",
       "</table>\n",
       "<p>2938 rows × 4 columns</p>\n",
       "</div>"
      ],
      "text/plain": [
       "              GNP   Unemployed  Armed.Forces   Population\n",
       "0       234.28900    235.60000     159.00000   107.608000\n",
       "1       259.42600    232.50000     145.60000   108.632000\n",
       "2       258.05400    368.20000     161.60000   109.773000\n",
       "3       284.59900    335.10000     165.00000   110.929000\n",
       "4       328.97500    209.90000     309.90000   112.075000\n",
       "...           ...          ...           ...          ...\n",
       "2933  61175.01519  38691.13574   18103.20721  4365.946957\n",
       "2934  61195.79363  38704.25206   18109.30618  4367.399196\n",
       "2935  61216.57207  38717.36838   18115.40515  4368.851434\n",
       "2936  61237.35050  38730.48471   18121.50412  4370.303672\n",
       "2937  61258.12894  38743.60103   18127.60309  4371.755910\n",
       "\n",
       "[2938 rows x 4 columns]"
      ]
     },
     "execution_count": 10,
     "metadata": {},
     "output_type": "execute_result"
    }
   ],
   "source": [
    "x"
   ]
  },
  {
   "cell_type": "code",
   "execution_count": 11,
   "metadata": {},
   "outputs": [
    {
     "data": {
      "text/html": [
       "<div>\n",
       "<style scoped>\n",
       "    .dataframe tbody tr th:only-of-type {\n",
       "        vertical-align: middle;\n",
       "    }\n",
       "\n",
       "    .dataframe tbody tr th {\n",
       "        vertical-align: top;\n",
       "    }\n",
       "\n",
       "    .dataframe thead th {\n",
       "        text-align: right;\n",
       "    }\n",
       "</style>\n",
       "<table border=\"1\" class=\"dataframe\">\n",
       "  <thead>\n",
       "    <tr style=\"text-align: right;\">\n",
       "      <th></th>\n",
       "      <th>Employed</th>\n",
       "    </tr>\n",
       "  </thead>\n",
       "  <tbody>\n",
       "    <tr>\n",
       "      <td>0</td>\n",
       "      <td>60.323000</td>\n",
       "    </tr>\n",
       "    <tr>\n",
       "      <td>1</td>\n",
       "      <td>61.122000</td>\n",
       "    </tr>\n",
       "    <tr>\n",
       "      <td>2</td>\n",
       "      <td>60.171000</td>\n",
       "    </tr>\n",
       "    <tr>\n",
       "      <td>3</td>\n",
       "      <td>61.187000</td>\n",
       "    </tr>\n",
       "    <tr>\n",
       "      <td>4</td>\n",
       "      <td>63.221000</td>\n",
       "    </tr>\n",
       "    <tr>\n",
       "      <td>...</td>\n",
       "      <td>...</td>\n",
       "    </tr>\n",
       "    <tr>\n",
       "      <td>2933</td>\n",
       "      <td>2161.472168</td>\n",
       "    </tr>\n",
       "    <tr>\n",
       "      <td>2934</td>\n",
       "      <td>2162.188679</td>\n",
       "    </tr>\n",
       "    <tr>\n",
       "      <td>2935</td>\n",
       "      <td>2162.905191</td>\n",
       "    </tr>\n",
       "    <tr>\n",
       "      <td>2936</td>\n",
       "      <td>2163.621703</td>\n",
       "    </tr>\n",
       "    <tr>\n",
       "      <td>2937</td>\n",
       "      <td>2164.338215</td>\n",
       "    </tr>\n",
       "  </tbody>\n",
       "</table>\n",
       "<p>2938 rows × 1 columns</p>\n",
       "</div>"
      ],
      "text/plain": [
       "         Employed\n",
       "0       60.323000\n",
       "1       61.122000\n",
       "2       60.171000\n",
       "3       61.187000\n",
       "4       63.221000\n",
       "...           ...\n",
       "2933  2161.472168\n",
       "2934  2162.188679\n",
       "2935  2162.905191\n",
       "2936  2163.621703\n",
       "2937  2164.338215\n",
       "\n",
       "[2938 rows x 1 columns]"
      ]
     },
     "execution_count": 11,
     "metadata": {},
     "output_type": "execute_result"
    }
   ],
   "source": [
    "y=data[['Employed']]\n",
    "y"
   ]
  },
  {
   "cell_type": "code",
   "execution_count": 12,
   "metadata": {},
   "outputs": [],
   "source": [
    "from sklearn.model_selection import train_test_split\n",
    "x_train ,x_test, y_train ,y_test = train_test_split(x,y,test_size=0.5, random_state=0)"
   ]
  },
  {
   "cell_type": "code",
   "execution_count": 13,
   "metadata": {},
   "outputs": [
    {
     "data": {
      "text/plain": [
       "LinearRegression(copy_X=True, fit_intercept=True, n_jobs=None, normalize=False)"
      ]
     },
     "execution_count": 13,
     "metadata": {},
     "output_type": "execute_result"
    }
   ],
   "source": [
    "from sklearn.linear_model import LinearRegression\n",
    "lm=LinearRegression()\n",
    "lm.fit(x_train , y_train)"
   ]
  },
  {
   "cell_type": "code",
   "execution_count": 14,
   "metadata": {},
   "outputs": [
    {
     "data": {
      "text/plain": [
       "array([[ 681.15974679],\n",
       "       [1335.33423955],\n",
       "       [ 504.898054  ],\n",
       "       ...,\n",
       "       [ 196.08183671],\n",
       "       [ 488.41830249],\n",
       "       [ 760.6924616 ]])"
      ]
     },
     "execution_count": 14,
     "metadata": {},
     "output_type": "execute_result"
    }
   ],
   "source": [
    "y_pred=lm.predict(x_test)\n",
    "y_pred"
   ]
  },
  {
   "cell_type": "code",
   "execution_count": 15,
   "metadata": {},
   "outputs": [
    {
     "data": {
      "text/html": [
       "<div>\n",
       "<style scoped>\n",
       "    .dataframe tbody tr th:only-of-type {\n",
       "        vertical-align: middle;\n",
       "    }\n",
       "\n",
       "    .dataframe tbody tr th {\n",
       "        vertical-align: top;\n",
       "    }\n",
       "\n",
       "    .dataframe thead th {\n",
       "        text-align: right;\n",
       "    }\n",
       "</style>\n",
       "<table border=\"1\" class=\"dataframe\">\n",
       "  <thead>\n",
       "    <tr style=\"text-align: right;\">\n",
       "      <th></th>\n",
       "      <th>Employed</th>\n",
       "    </tr>\n",
       "  </thead>\n",
       "  <tbody>\n",
       "    <tr>\n",
       "      <td>867</td>\n",
       "      <td>681.158862</td>\n",
       "    </tr>\n",
       "    <tr>\n",
       "      <td>1780</td>\n",
       "      <td>1335.334103</td>\n",
       "    </tr>\n",
       "    <tr>\n",
       "      <td>621</td>\n",
       "      <td>504.896968</td>\n",
       "    </tr>\n",
       "    <tr>\n",
       "      <td>2715</td>\n",
       "      <td>2005.272603</td>\n",
       "    </tr>\n",
       "    <tr>\n",
       "      <td>2717</td>\n",
       "      <td>2006.705626</td>\n",
       "    </tr>\n",
       "    <tr>\n",
       "      <td>...</td>\n",
       "      <td>...</td>\n",
       "    </tr>\n",
       "    <tr>\n",
       "      <td>2474</td>\n",
       "      <td>1832.593268</td>\n",
       "    </tr>\n",
       "    <tr>\n",
       "      <td>2933</td>\n",
       "      <td>2161.472168</td>\n",
       "    </tr>\n",
       "    <tr>\n",
       "      <td>190</td>\n",
       "      <td>196.080397</td>\n",
       "    </tr>\n",
       "    <tr>\n",
       "      <td>598</td>\n",
       "      <td>488.417197</td>\n",
       "    </tr>\n",
       "    <tr>\n",
       "      <td>978</td>\n",
       "      <td>760.691668</td>\n",
       "    </tr>\n",
       "  </tbody>\n",
       "</table>\n",
       "<p>1469 rows × 1 columns</p>\n",
       "</div>"
      ],
      "text/plain": [
       "         Employed\n",
       "867    681.158862\n",
       "1780  1335.334103\n",
       "621    504.896968\n",
       "2715  2005.272603\n",
       "2717  2006.705626\n",
       "...           ...\n",
       "2474  1832.593268\n",
       "2933  2161.472168\n",
       "190    196.080397\n",
       "598    488.417197\n",
       "978    760.691668\n",
       "\n",
       "[1469 rows x 1 columns]"
      ]
     },
     "execution_count": 15,
     "metadata": {},
     "output_type": "execute_result"
    }
   ],
   "source": [
    "y_test"
   ]
  },
  {
   "cell_type": "code",
   "execution_count": 25,
   "metadata": {},
   "outputs": [
    {
     "data": {
      "image/png": "[encoded data removed]",
      "text/plain": [
       "<Figure size 432x288 with 1 Axes>"
      ]
     },
     "metadata": {
      "needs_background": "light"
     },
     "output_type": "display_data"
    }
   ],
   "source": [
    "plt.scatter(x_train[['Population']],y_train,color='blue')\n",
    "plt.plot(x_train[['Population']],lm.predict(x_train),color='yellow')\n",
    "plt.legend(['Population' , 'Employed'])\n",
    "plt.title(\" Population VS Employed\")\n",
    "plt.show()"
   ]
  },
  {
   "cell_type": "code",
   "execution_count": 17,
   "metadata": {},
   "outputs": [
    {
     "data": {
      "text/html": [
       "<div>\n",
       "<style scoped>\n",
       "    .dataframe tbody tr th:only-of-type {\n",
       "        vertical-align: middle;\n",
       "    }\n",
       "\n",
       "    .dataframe tbody tr th {\n",
       "        vertical-align: top;\n",
       "    }\n",
       "\n",
       "    .dataframe thead th {\n",
       "        text-align: right;\n",
       "    }\n",
       "</style>\n",
       "<table border=\"1\" class=\"dataframe\">\n",
       "  <thead>\n",
       "    <tr style=\"text-align: right;\">\n",
       "      <th></th>\n",
       "      <th>GNP</th>\n",
       "      <th>Unemployed</th>\n",
       "      <th>Armed.Forces</th>\n",
       "      <th>Population</th>\n",
       "    </tr>\n",
       "  </thead>\n",
       "  <tbody>\n",
       "    <tr>\n",
       "      <td>1476</td>\n",
       "      <td>30900.83283</td>\n",
       "      <td>19580.65235</td>\n",
       "      <td>9217.007059</td>\n",
       "      <td>2250.035849</td>\n",
       "    </tr>\n",
       "    <tr>\n",
       "      <td>1639</td>\n",
       "      <td>34287.71802</td>\n",
       "      <td>21718.61309</td>\n",
       "      <td>10211.139260</td>\n",
       "      <td>2486.750681</td>\n",
       "    </tr>\n",
       "    <tr>\n",
       "      <td>2128</td>\n",
       "      <td>44448.37360</td>\n",
       "      <td>28132.49529</td>\n",
       "      <td>13193.535880</td>\n",
       "      <td>3196.895178</td>\n",
       "    </tr>\n",
       "    <tr>\n",
       "      <td>2490</td>\n",
       "      <td>51970.16771</td>\n",
       "      <td>32880.60441</td>\n",
       "      <td>15401.363240</td>\n",
       "      <td>3722.605419</td>\n",
       "    </tr>\n",
       "    <tr>\n",
       "      <td>1651</td>\n",
       "      <td>34537.05926</td>\n",
       "      <td>21876.00897</td>\n",
       "      <td>10284.326910</td>\n",
       "      <td>2504.177540</td>\n",
       "    </tr>\n",
       "  </tbody>\n",
       "</table>\n",
       "</div>"
      ],
      "text/plain": [
       "              GNP   Unemployed  Armed.Forces   Population\n",
       "1476  30900.83283  19580.65235   9217.007059  2250.035849\n",
       "1639  34287.71802  21718.61309  10211.139260  2486.750681\n",
       "2128  44448.37360  28132.49529  13193.535880  3196.895178\n",
       "2490  51970.16771  32880.60441  15401.363240  3722.605419\n",
       "1651  34537.05926  21876.00897  10284.326910  2504.177540"
      ]
     },
     "execution_count": 17,
     "metadata": {},
     "output_type": "execute_result"
    }
   ],
   "source": [
    "x_train.head()"
   ]
  },
  {
   "cell_type": "code",
   "execution_count": 27,
   "metadata": {},
   "outputs": [
    {
     "data": {
      "image/png": "[encoded data removed]",
      "text/plain": [
       "<Figure size 432x288 with 1 Axes>"
      ]
     },
     "metadata": {
      "needs_background": "light"
     },
     "output_type": "display_data"
    }
   ],
   "source": [
    "plt.scatter(x_train[['GNP']],y_train,color='black')\n",
    "plt.plot(x_train[['GNP']],lm.predict(x_train),color='pink')\n",
    "plt.legend(['GNP' , 'Employed'])\n",
    "plt.title(\" GNP VS Employed\")\n",
    "plt.show()"
   ]
  },
  {
   "cell_type": "code",
   "execution_count": 28,
   "metadata": {},
   "outputs": [
    {
     "data": {
      "image/png": "[encoded data removed]",
      "text/plain": [
       "<Figure size 432x288 with 1 Axes>"
      ]
     },
     "metadata": {
      "needs_background": "light"
     },
     "output_type": "display_data"
    }
   ],
   "source": [
    "plt.scatter(x_test[['GNP']],y_test,color='yellow')\n",
    "plt.plot(x_test[['GNP']],lm.predict(x_test),color='green')\n",
    "plt.legend(['GNP' , 'Employed'])\n",
    "plt.title(\" GNP VS Employed\")\n",
    "plt.show()"
   ]
  },
  {
   "cell_type": "code",
   "execution_count": 23,
   "metadata": {},
   "outputs": [
    {
     "name": "stderr",
     "output_type": "stream",
     "text": [
      "C:\\Users\\Pratik\\Anaconda3\\lib\\site-packages\\numpy\\core\\fromnumeric.py:2389: FutureWarning: Method .ptp is deprecated and will be removed in a future version. Use numpy.ptp instead.\n",
      "  return ptp(axis=axis, out=out, **kwargs)\n"
     ]
    },
    {
     "data": {
      "text/html": [
       "<table class=\"simpletable\">\n",
       "<caption>OLS Regression Results</caption>\n",
       "<tr>\n",
       "  <th>Dep. Variable:</th>        <td>Employed</td>     <th>  R-squared:         </th>  <td>   1.000</td> \n",
       "</tr>\n",
       "<tr>\n",
       "  <th>Model:</th>                   <td>OLS</td>       <th>  Adj. R-squared:    </th>  <td>   1.000</td> \n",
       "</tr>\n",
       "<tr>\n",
       "  <th>Method:</th>             <td>Least Squares</td>  <th>  F-statistic:       </th>  <td>3.359e+11</td>\n",
       "</tr>\n",
       "<tr>\n",
       "  <th>Date:</th>             <td>Wed, 29 Jan 2020</td> <th>  Prob (F-statistic):</th>   <td>  0.00</td>  \n",
       "</tr>\n",
       "<tr>\n",
       "  <th>Time:</th>                 <td>20:32:16</td>     <th>  Log-Likelihood:    </th>  <td>  6295.1</td> \n",
       "</tr>\n",
       "<tr>\n",
       "  <th>No. Observations:</th>      <td>  2938</td>      <th>  AIC:               </th> <td>-1.258e+04</td>\n",
       "</tr>\n",
       "<tr>\n",
       "  <th>Df Residuals:</th>          <td>  2933</td>      <th>  BIC:               </th> <td>-1.255e+04</td>\n",
       "</tr>\n",
       "<tr>\n",
       "  <th>Df Model:</th>              <td>     4</td>      <th>                     </th>      <td> </td>    \n",
       "</tr>\n",
       "<tr>\n",
       "  <th>Covariance Type:</th>      <td>nonrobust</td>    <th>                     </th>      <td> </td>    \n",
       "</tr>\n",
       "</table>\n",
       "<table class=\"simpletable\">\n",
       "<tr>\n",
       "        <td></td>          <th>coef</th>     <th>std err</th>      <th>t</th>      <th>P>|t|</th>  <th>[0.025</th>    <th>0.975]</th>  \n",
       "</tr>\n",
       "<tr>\n",
       "  <th>const</th>        <td>   82.5951</td> <td>    1.334</td> <td>   61.914</td> <td> 0.000</td> <td>   79.979</td> <td>   85.211</td>\n",
       "</tr>\n",
       "<tr>\n",
       "  <th>GNP</th>          <td>    0.0622</td> <td>    0.001</td> <td>   63.809</td> <td> 0.000</td> <td>    0.060</td> <td>    0.064</td>\n",
       "</tr>\n",
       "<tr>\n",
       "  <th>Unemployed</th>   <td>   -0.0052</td> <td>    0.000</td> <td>  -29.064</td> <td> 0.000</td> <td>   -0.006</td> <td>   -0.005</td>\n",
       "</tr>\n",
       "<tr>\n",
       "  <th>Armed.Forces</th> <td>   -0.0059</td> <td>    0.000</td> <td>  -37.141</td> <td> 0.000</td> <td>   -0.006</td> <td>   -0.006</td>\n",
       "</tr>\n",
       "<tr>\n",
       "  <th>Population</th>   <td>   -0.3254</td> <td>    0.015</td> <td>  -22.004</td> <td> 0.000</td> <td>   -0.354</td> <td>   -0.296</td>\n",
       "</tr>\n",
       "</table>\n",
       "<table class=\"simpletable\">\n",
       "<tr>\n",
       "  <th>Omnibus:</th>       <td>4392.754</td> <th>  Durbin-Watson:     </th>   <td>   1.305</td>  \n",
       "</tr>\n",
       "<tr>\n",
       "  <th>Prob(Omnibus):</th>  <td> 0.000</td>  <th>  Jarque-Bera (JB):  </th> <td>42776928.170</td>\n",
       "</tr>\n",
       "<tr>\n",
       "  <th>Skew:</th>           <td> 7.796</td>  <th>  Prob(JB):          </th>   <td>    0.00</td>  \n",
       "</tr>\n",
       "<tr>\n",
       "  <th>Kurtosis:</th>       <td>593.926</td> <th>  Cond. No.          </th>   <td>1.10e+08</td>  \n",
       "</tr>\n",
       "</table><br/><br/>Warnings:<br/>[1] Standard Errors assume that the covariance matrix of the errors is correctly specified.<br/>[2] The condition number is large, 1.1e+08. This might indicate that there are<br/>strong multicollinearity or other numerical problems."
      ],
      "text/plain": [
       "<class 'statsmodels.iolib.summary.Summary'>\n",
       "\"\"\"\n",
       "                            OLS Regression Results                            \n",
       "==============================================================================\n",
       "Dep. Variable:               Employed   R-squared:                       1.000\n",
       "Model:                            OLS   Adj. R-squared:                  1.000\n",
       "Method:                 Least Squares   F-statistic:                 3.359e+11\n",
       "Date:                Wed, 29 Jan 2020   Prob (F-statistic):               0.00\n",
       "Time:                        20:32:16   Log-Likelihood:                 6295.1\n",
       "No. Observations:                2938   AIC:                        -1.258e+04\n",
       "Df Residuals:                    2933   BIC:                        -1.255e+04\n",
       "Df Model:                           4                                         \n",
       "Covariance Type:            nonrobust                                         \n",
       "================================================================================\n",
       "                   coef    std err          t      P>|t|      [0.025      0.975]\n",
       "--------------------------------------------------------------------------------\n",
       "const           82.5951      1.334     61.914      0.000      79.979      85.211\n",
       "GNP              0.0622      0.001     63.809      0.000       0.060       0.064\n",
       "Unemployed      -0.0052      0.000    -29.064      0.000      -0.006      -0.005\n",
       "Armed.Forces    -0.0059      0.000    -37.141      0.000      -0.006      -0.006\n",
       "Population      -0.3254      0.015    -22.004      0.000      -0.354      -0.296\n",
       "==============================================================================\n",
       "Omnibus:                     4392.754   Durbin-Watson:                   1.305\n",
       "Prob(Omnibus):                  0.000   Jarque-Bera (JB):         42776928.170\n",
       "Skew:                           7.796   Prob(JB):                         0.00\n",
       "Kurtosis:                     593.926   Cond. No.                     1.10e+08\n",
       "==============================================================================\n",
       "\n",
       "Warnings:\n",
       "[1] Standard Errors assume that the covariance matrix of the errors is correctly specified.\n",
       "[2] The condition number is large, 1.1e+08. This might indicate that there are\n",
       "strong multicollinearity or other numerical problems.\n",
       "\"\"\""
      ]
     },
     "execution_count": 23,
     "metadata": {},
     "output_type": "execute_result"
    }
   ],
   "source": [
    "import statsmodels.api as sm\n",
    "X=sm.add_constant(x)\n",
    "model=sm.OLS(y,X).fit()\n",
    "predictions=model.predict(X)\n",
    "model.summary()"
   ]
  }
 ],
 "metadata": {
  "kernelspec": {
   "display_name": "Python 3",
   "language": "python",
   "name": "python3"
  },
  "language_info": {
   "codemirror_mode": {
    "name": "ipython",
    "version": 3
   },
   "file_extension": ".py",
   "mimetype": "text/x-python",
   "name": "python",
   "nbconvert_exporter": "python",
   "pygments_lexer": "ipython3",
   "version": "3.7.4"
  }
 },
 "nbformat": 4,
 "nbformat_minor": 2
}
